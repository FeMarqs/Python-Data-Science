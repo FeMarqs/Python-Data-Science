{
  "nbformat": 4,
  "nbformat_minor": 0,
  "metadata": {
    "colab": {
      "provenance": []
    },
    "kernelspec": {
      "name": "python3",
      "display_name": "Python 3"
    },
    "language_info": {
      "name": "python"
    }
  },
  "cells": [
    {
      "cell_type": "code",
      "execution_count": null,
      "metadata": {
        "id": "mkx79FqmxdMR"
      },
      "outputs": [],
      "source": []
    },
    {
      "cell_type": "markdown",
      "source": [
        "Exercício de fixação"
      ],
      "metadata": {
        "id": "WBNQuIizxkO4"
      }
    },
    {
      "cell_type": "markdown",
      "source": [
        "Desenvolva um programa que recebe do usuário, o placar de um jogo de futebol (os golsde cada time) e informa se o resultado foi um empate, se a vitória foi do primeiro time ou do segundo time."
      ],
      "metadata": {
        "id": "ICZBCP9hxtuK"
      }
    },
    {
      "cell_type": "code",
      "source": [
        "placar1 = int(input(\"Digite o placar do primeiro time: \"))\n",
        "placar2 = int(input(\"Digite o placar do segundo time:\"))\n"
      ],
      "metadata": {
        "colab": {
          "base_uri": "https://localhost:8080/"
        },
        "id": "inNeLzGS41DF",
        "outputId": "69bb0f43-e2f1-4c24-f70c-71c25b2a5616"
      },
      "execution_count": 7,
      "outputs": [
        {
          "name": "stdout",
          "output_type": "stream",
          "text": [
            "Digite o placar do primeiro time: 0\n",
            "Digite o placar do segundo time:0\n"
          ]
        }
      ]
    },
    {
      "cell_type": "code",
      "source": [
        "if placar1 > placar2:\n",
        "    print(\"Vitória do primeiro time\")\n",
        "elif placar2 > placar1:\n",
        "    print(\"Vitória do segundo time\")\n",
        "else:\n",
        "    print(\"Empate\")"
      ],
      "metadata": {
        "colab": {
          "base_uri": "https://localhost:8080/"
        },
        "id": "L9Sri2nc5ZJ4",
        "outputId": "6583a7a9-4bbb-41ac-bdd9-0765e11c89ae"
      },
      "execution_count": 8,
      "outputs": [
        {
          "output_type": "stream",
          "name": "stdout",
          "text": [
            "Empate\n"
          ]
        }
      ]
    }
  ]
}